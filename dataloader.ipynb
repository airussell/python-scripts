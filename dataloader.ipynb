{
 "cells": [
  {
   "cell_type": "code",
   "execution_count": 20,
   "metadata": {},
   "outputs": [],
   "source": [
    "import torch"
   ]
  },
  {
   "cell_type": "code",
   "execution_count": 28,
   "metadata": {},
   "outputs": [
    {
     "name": "stdout",
     "output_type": "stream",
     "text": [
      "tensor([[ 1,  2,  3],\n",
      "        [ 4,  5,  6],\n",
      "        [ 7,  8,  9],\n",
      "        [10, 11, 12],\n",
      "        [13, 14, 15],\n",
      "        [16, 17, 18]])\n",
      "tensor([1, 2, 2, 2, 1, 1])\n"
     ]
    }
   ],
   "source": [
    "inp = torch.arange(1, 19).reshape(6, 3)\n",
    "label = torch.randint(1, 3, size=(6,))\n",
    "print(inp)\n",
    "print(label)"
   ]
  },
  {
   "cell_type": "code",
   "execution_count": 29,
   "metadata": {},
   "outputs": [],
   "source": [
    "ds = torch.utils.data.TensorDataset(inp, label)"
   ]
  },
  {
   "cell_type": "code",
   "execution_count": 30,
   "metadata": {},
   "outputs": [
    {
     "name": "stdout",
     "output_type": "stream",
     "text": [
      "0 tensor([1, 2, 3]) tensor(1)\n",
      "1 tensor([4, 5, 6]) tensor(2)\n",
      "2 tensor([7, 8, 9]) tensor(2)\n"
     ]
    }
   ],
   "source": [
    "for i, (x, y) in enumerate(ds):\n",
    "    print(i, x, y)\n",
    "    if i == 2:\n",
    "        break"
   ]
  },
  {
   "cell_type": "code",
   "execution_count": 31,
   "metadata": {},
   "outputs": [
    {
     "name": "stdout",
     "output_type": "stream",
     "text": [
      "0 tensor([[13, 14, 15],\n",
      "        [ 7,  8,  9]]) tensor([1, 2])\n",
      "1 tensor([[16, 17, 18],\n",
      "        [ 1,  2,  3]]) tensor([1, 1])\n",
      "2 tensor([[10, 11, 12],\n",
      "        [ 4,  5,  6]]) tensor([2, 2])\n"
     ]
    }
   ],
   "source": [
    "dl = torch.utils.data.DataLoader(ds, batch_size=2, shuffle=True)\n",
    "for i, (x, y) in enumerate(dl):\n",
    "    print(i, x, y)"
   ]
  },
  {
   "cell_type": "code",
   "execution_count": null,
   "metadata": {},
   "outputs": [],
   "source": []
  }
 ],
 "metadata": {
  "kernelspec": {
   "display_name": "Python 3.9.12",
   "language": "python",
   "name": "python3"
  },
  "language_info": {
   "codemirror_mode": {
    "name": "ipython",
    "version": 3
   },
   "file_extension": ".py",
   "mimetype": "text/x-python",
   "name": "python",
   "nbconvert_exporter": "python",
   "pygments_lexer": "ipython3",
   "version": "3.9.12"
  },
  "orig_nbformat": 4,
  "vscode": {
   "interpreter": {
    "hash": "bb277065eb73e55751d26338d4aa1145fadddcc3c62149e8810f0655ac2299a7"
   }
  }
 },
 "nbformat": 4,
 "nbformat_minor": 2
}
