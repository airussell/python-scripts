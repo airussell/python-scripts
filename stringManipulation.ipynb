{
 "cells": [
  {
   "cell_type": "markdown",
   "metadata": {},
   "source": [
    "# String manipulation"
   ]
  },
  {
   "cell_type": "markdown",
   "metadata": {},
   "source": [
    "## Replace all words with a new string "
   ]
  },
  {
   "cell_type": "code",
   "execution_count": 51,
   "metadata": {},
   "outputs": [],
   "source": [
    "import re\n",
    "\n",
    "text = \"Hello Russell C., how are you Russell C., bye bye Russell c.\"\n",
    "chunk = 'Russell C.'\n",
    "label = 'PERSON'"
   ]
  },
  {
   "cell_type": "code",
   "execution_count": 52,
   "metadata": {},
   "outputs": [],
   "source": [
    "new_text = re.sub(chunk, f'<{label}> {chunk} <{label}>', text)"
   ]
  },
  {
   "cell_type": "code",
   "execution_count": 53,
   "metadata": {},
   "outputs": [
    {
     "name": "stdout",
     "output_type": "stream",
     "text": [
      "Hello Russell C., how are you Russell C., bye bye Russell c.\n",
      "Hello <PERSON> Russell C. <PERSON>, how are you <PERSON> Russell C. <PERSON>, bye bye Russell c.\n"
     ]
    }
   ],
   "source": [
    "print(text)\n",
    "print(new_text)"
   ]
  },
  {
   "cell_type": "markdown",
   "metadata": {},
   "source": [
    "IGNORECASE"
   ]
  },
  {
   "cell_type": "code",
   "execution_count": 54,
   "metadata": {},
   "outputs": [
    {
     "data": {
      "text/plain": [
       "'Hello <PERSON> Russell C. <PERSON>, how are you <PERSON> Russell C. <PERSON>, bye bye <PERSON> Russell C. <PERSON>'"
      ]
     },
     "execution_count": 54,
     "metadata": {},
     "output_type": "execute_result"
    }
   ],
   "source": [
    "new_text = re.sub(chunk, f'<{label}> {chunk} <{label}>', text, flags=re.IGNORECASE)\n",
    "new_text"
   ]
  },
  {
   "cell_type": "markdown",
   "metadata": {},
   "source": [
    "## Find all indexes of given word & change them"
   ]
  },
  {
   "cell_type": "code",
   "execution_count": 55,
   "metadata": {},
   "outputs": [
    {
     "name": "stdout",
     "output_type": "stream",
     "text": [
      "<re.Match object; span=(6, 16), match='Russell C.'>\n",
      "(6, 16)\n",
      "<re.Match object; span=(30, 40), match='Russell C.'>\n",
      "(30, 40)\n"
     ]
    }
   ],
   "source": [
    "for x in re.finditer(chunk, text):\n",
    "    print(x)\n",
    "    print(x.span())"
   ]
  },
  {
   "cell_type": "code",
   "execution_count": 56,
   "metadata": {},
   "outputs": [
    {
     "data": {
      "text/plain": [
       "[(6, 16), (30, 40)]"
      ]
     },
     "execution_count": 56,
     "metadata": {},
     "output_type": "execute_result"
    }
   ],
   "source": [
    "chunk_idx = [x.span() for x in re.finditer(chunk, text)]\n",
    "chunk_idx"
   ]
  },
  {
   "cell_type": "code",
   "execution_count": 57,
   "metadata": {},
   "outputs": [
    {
     "data": {
      "text/plain": [
       "'Hello <PERSON> Russell C. <PERSON>, how are you <PERSON> Russell C. <PERSON>, bye bye Russell c.'"
      ]
     },
     "execution_count": 57,
     "metadata": {},
     "output_type": "execute_result"
    }
   ],
   "source": [
    "for begin, end in sorted(chunk_idx, reverse=True):\n",
    "    text = text[:begin] + f'<{label}> {chunk} <{label}>' + text[end:]\n",
    "    \n",
    "text"
   ]
  },
  {
   "cell_type": "markdown",
   "metadata": {},
   "source": [
    "IGNORECASE"
   ]
  },
  {
   "cell_type": "code",
   "execution_count": 58,
   "metadata": {},
   "outputs": [],
   "source": [
    "text = \"Hello Russell C., how are you Russell C., bye bye Russell c.\"\n",
    "chunk = 'Russell C.'"
   ]
  },
  {
   "cell_type": "code",
   "execution_count": 59,
   "metadata": {},
   "outputs": [
    {
     "data": {
      "text/plain": [
       "[(6, 16), (30, 40), (50, 60)]"
      ]
     },
     "execution_count": 59,
     "metadata": {},
     "output_type": "execute_result"
    }
   ],
   "source": [
    "chunk_idx = [x.span() for x in re.finditer(chunk, text, flags=re.IGNORECASE)]\n",
    "chunk_idx"
   ]
  },
  {
   "cell_type": "code",
   "execution_count": 60,
   "metadata": {},
   "outputs": [
    {
     "data": {
      "text/plain": [
       "'Hello <PERSON> Russell C. <PERSON>, how are you <PERSON> Russell C. <PERSON>, bye bye <PERSON> Russell C. <PERSON>'"
      ]
     },
     "execution_count": 60,
     "metadata": {},
     "output_type": "execute_result"
    }
   ],
   "source": [
    "for begin, end in sorted(chunk_idx, reverse=True):\n",
    "    text = text[:begin] + f'<{label}> {chunk} <{label}>' + text[end:]\n",
    "    \n",
    "text"
   ]
  }
 ],
 "metadata": {
  "interpreter": {
   "hash": "02909133c842bea5b9844dfca84ea9debb08fdd429c8f0109bc3b4709ce04e96"
  },
  "kernelspec": {
   "display_name": "Python 3.7.11 64-bit ('spark': conda)",
   "language": "python",
   "name": "python3"
  },
  "language_info": {
   "codemirror_mode": {
    "name": "ipython",
    "version": 3
   },
   "file_extension": ".py",
   "mimetype": "text/x-python",
   "name": "python",
   "nbconvert_exporter": "python",
   "pygments_lexer": "ipython3",
   "version": "3.9.7"
  },
  "orig_nbformat": 4
 },
 "nbformat": 4,
 "nbformat_minor": 2
}
