{
 "cells": [
  {
   "cell_type": "markdown",
   "metadata": {},
   "source": [
    "## shuffle\n",
    "\n",
    " "
   ]
  },
  {
   "cell_type": "markdown",
   "metadata": {},
   "source": [
    "```\n",
    "Original array  \n",
    "a = np.array([[10, 11, 12], [20, 21, 22], [30, 31, 32],[40, 41, 42]])  \n",
    "print(a)  \n",
    "[[10 11 12]\n",
    " [20 21 22]\n",
    " [30 31 32]\n",
    " [40 41 42]]\n",
    "Keep row order, shuffle colums within each row  \n",
    "print(np.apply_along_axis(np.random.permutation, 1, a))  \n",
    "[[11 12 10]\n",
    " [22 21 20]\n",
    " [31 30 32]\n",
    " [40 41 42]]\n",
    "Keep colums order, shuffle rows within each column  \n",
    "print(np.apply_along_axis(np.random.permutation, 0, a))  \n",
    "[[40 41 32]\n",
    " [20 31 42]\n",
    " [10 11 12]\n",
    " [30 21 22]]\n",
    "Original array is unchanged  \n",
    "print(a)  \n",
    "[[10 11 12]\n",
    " [20 21 22]\n",
    " [30 31 32]\n",
    " [40 41 42]]\n",
    "\n",
    " ```"
   ]
  },
  {
   "cell_type": "code",
   "execution_count": null,
   "metadata": {},
   "outputs": [],
   "source": [
    "\n",
    "def shuffle(df, n=1, axis=0):     \n",
    "    df = df.copy()\n",
    "    for _ in range(n):\n",
    "        df.apply(np.random.shuffle, axis=axis)\n",
    "    return df\n",
    "\n",
    "# For DF\n",
    "df = df.sample(frac=1, axis=1).reset_index(drop=True)\n",
    "\n",
    "# For Series\n",
    "s.sample() # return one row\n",
    "s.sample(n=3) # return 3 row\n",
    "s.sample(frac=0.5)\n",
    "import sklearn.utils\n",
    "df = sklearn.utils.shuffle(df)\n",
    "\n",
    "import numpy as np\n",
    "df = df.apply(np.random.permutation, axis=1)  "
   ]
  }
 ],
 "metadata": {
  "interpreter": {
   "hash": "fa26c40463f8874154d39edd56089570aa63aad6f16a5acbb8740426fd6fbfc9"
  },
  "kernelspec": {
   "display_name": "Python 3.9.12",
   "language": "python",
   "name": "python3"
  },
  "language_info": {
   "codemirror_mode": {
    "name": "ipython",
    "version": 3
   },
   "file_extension": ".py",
   "mimetype": "text/x-python",
   "name": "python",
   "nbconvert_exporter": "python",
   "pygments_lexer": "ipython3",
   "version": "3.9.12"
  },
  "orig_nbformat": 4
 },
 "nbformat": 4,
 "nbformat_minor": 2
}
